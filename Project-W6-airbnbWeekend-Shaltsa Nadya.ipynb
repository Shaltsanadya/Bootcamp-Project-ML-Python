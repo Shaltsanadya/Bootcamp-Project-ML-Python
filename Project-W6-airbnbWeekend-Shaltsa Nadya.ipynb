{
 "cells": [
  {
   "cell_type": "markdown",
   "id": "21c0de06",
   "metadata": {},
   "source": [
    "# Airbnb Prices in Some of The Most Popular European Cities"
   ]
  },
  {
   "attachments": {
    "airbnb.jpg": {
     "image/jpeg": "[encoded data removed]"
    }
   },
   "cell_type": "markdown",
   "id": "9d01f886",
   "metadata": {},
   "source": [
    "![airbnb.jpg](attachment:airbnb.jpg)"
   ]
  },
  {
   "cell_type": "markdown",
   "id": "8d55a10f",
   "metadata": {},
   "source": [
    "<h3 align=\"left\">About dataset </h3>:\n",
    "\n",
    "This dataset provides a comprehensive look at Airbnb prices in some of the most popular European cities. Each listing is evaluated for various attributes such as room types, cleanliness and satisfaction ratings, bedrooms, distance from the city centre, and more to capture an in-depth understanding of Airbnb prices on both weekdays and weekends. We hope that this data set offers insight into how global markets are affected by social dynamics and geographical factors which in turn determine pricing strategies for optimal profitability!\n",
    "\n",
    "**Dataset Column description**:\n",
    "\n",
    "| Column Name | Description | Data Type |\n",
    "|-------------|-------------|-----------|\n",
    "| realSum | The total price of the Airbnb listing | (Numeric) |\n",
    "| room_type | The type of room being offered (e.g. private, shared, etc.) | (Categorical) |\n",
    "| room_shared | Whether the room is shared or not | (Boolean) |\n",
    "| room_private | Whether the room is private or not | (Boolean) |\n",
    "| person_capacity | The maximum number of people that can stay in the room | (Numeric) |\n",
    "| host_is_superhost\t| Whether the host is a superhost or not | (Boolean) |\n",
    "| multi | Whether the listing is for multiple rooms or not | (Boolean) |\n",
    "| biz | Whether the listing is for business purposes or not | (Boolean) |\n",
    "| cleanliness_rating | The cleanliness rating of the listing | (Numeric) |\n",
    "| guest_satisfaction_overall | The overall guest satisfaction rating of the listing | (Numeric) |\n",
    "| bedrooms | The number of bedrooms in the listing | (Numeric) |\n",
    "| dist | The distance from the city centre | (Numeric) |\n",
    "| metro_dist | The distance from the nearest metro station | (Numeric) |\n",
    "| lng | The longitude of the listing | (Numeric) |\n",
    "| lat | The latitude of the listing | (Numeric) |\n",
    "\n",
    "Source:\n",
    "\n",
    "https://www.kaggle.com/datasets/thedevastator/airbnb-prices-in-european-cities"
   ]
  },
  {
   "cell_type": "markdown",
   "id": "84f4fa99",
   "metadata": {},
   "source": [
    "## IMPORT PACKAGE"
   ]
  },
  {
   "cell_type": "code",
   "execution_count": 1,
   "id": "90480b67",
   "metadata": {},
   "outputs": [],
   "source": [
    "import pandas as pd\n",
    "import seaborn as sns\n",
    "import numpy as np\n",
    "import matplotlib.pyplot as plt\n",
    "import warnings\n",
    "warnings.filterwarnings(\"ignore\")\n",
    "from numpy import mean\n",
    "from numpy import std\n",
    "from sklearn import preprocessing\n",
    "from statsmodels.stats.outliers_influence import variance_inflation_factor\n",
    "from sklearn.metrics import confusion_matrix\n",
    "from sklearn.model_selection import KFold\n",
    "from sklearn.model_selection import cross_val_score"
   ]
  },
  {
   "cell_type": "markdown",
   "id": "3a0a6d96",
   "metadata": {},
   "source": [
    "## DATA UNDERSTANDING"
   ]
  },
  {
   "cell_type": "code",
   "execution_count": 2,
   "id": "02e7189b",
   "metadata": {},
   "outputs": [],
   "source": [
    "df= pd.read_csv('budapest_weekends.csv')"
   ]
  },
  {
   "cell_type": "code",
   "execution_count": 3,
   "id": "5876d7de",
   "metadata": {},
   "outputs": [
    {
     "data": {
      "text/html": [
       "<div>\n",
       "<style scoped>\n",
       "    .dataframe tbody tr th:only-of-type {\n",
       "        vertical-align: middle;\n",
       "    }\n",
       "\n",
       "    .dataframe tbody tr th {\n",
       "        vertical-align: top;\n",
       "    }\n",
       "\n",
       "    .dataframe thead th {\n",
       "        text-align: right;\n",
       "    }\n",
       "</style>\n",
       "<table border=\"1\" class=\"dataframe\">\n",
       "  <thead>\n",
       "    <tr style=\"text-align: right;\">\n",
       "      <th></th>\n",
       "      <th>Unnamed: 0</th>\n",
       "      <th>realSum</th>\n",
       "      <th>room_type</th>\n",
       "      <th>room_shared</th>\n",
       "      <th>room_private</th>\n",
       "      <th>person_capacity</th>\n",
       "      <th>host_is_superhost</th>\n",
       "      <th>multi</th>\n",
       "      <th>biz</th>\n",
       "      <th>cleanliness_rating</th>\n",
       "      <th>guest_satisfaction_overall</th>\n",
       "      <th>bedrooms</th>\n",
       "      <th>dist</th>\n",
       "      <th>metro_dist</th>\n",
       "      <th>attr_index</th>\n",
       "      <th>attr_index_norm</th>\n",
       "      <th>rest_index</th>\n",
       "      <th>rest_index_norm</th>\n",
       "      <th>lng</th>\n",
       "      <th>lat</th>\n",
       "    </tr>\n",
       "  </thead>\n",
       "  <tbody>\n",
       "    <tr>\n",
       "      <th>0</th>\n",
       "      <td>0</td>\n",
       "      <td>332.048691</td>\n",
       "      <td>Entire home/apt</td>\n",
       "      <td>False</td>\n",
       "      <td>False</td>\n",
       "      <td>6.0</td>\n",
       "      <td>True</td>\n",
       "      <td>0</td>\n",
       "      <td>1</td>\n",
       "      <td>10.0</td>\n",
       "      <td>99.0</td>\n",
       "      <td>1</td>\n",
       "      <td>0.359372</td>\n",
       "      <td>0.352662</td>\n",
       "      <td>404.398511</td>\n",
       "      <td>24.136091</td>\n",
       "      <td>893.418228</td>\n",
       "      <td>78.100790</td>\n",
       "      <td>19.05074</td>\n",
       "      <td>47.50076</td>\n",
       "    </tr>\n",
       "    <tr>\n",
       "      <th>1</th>\n",
       "      <td>1</td>\n",
       "      <td>331.108709</td>\n",
       "      <td>Entire home/apt</td>\n",
       "      <td>False</td>\n",
       "      <td>False</td>\n",
       "      <td>6.0</td>\n",
       "      <td>False</td>\n",
       "      <td>0</td>\n",
       "      <td>1</td>\n",
       "      <td>9.0</td>\n",
       "      <td>98.0</td>\n",
       "      <td>2</td>\n",
       "      <td>0.929438</td>\n",
       "      <td>0.200219</td>\n",
       "      <td>1675.492994</td>\n",
       "      <td>100.000000</td>\n",
       "      <td>452.536452</td>\n",
       "      <td>39.559809</td>\n",
       "      <td>19.04493</td>\n",
       "      <td>47.50405</td>\n",
       "    </tr>\n",
       "    <tr>\n",
       "      <th>2</th>\n",
       "      <td>2</td>\n",
       "      <td>243.925365</td>\n",
       "      <td>Entire home/apt</td>\n",
       "      <td>False</td>\n",
       "      <td>False</td>\n",
       "      <td>6.0</td>\n",
       "      <td>False</td>\n",
       "      <td>1</td>\n",
       "      <td>0</td>\n",
       "      <td>10.0</td>\n",
       "      <td>95.0</td>\n",
       "      <td>2</td>\n",
       "      <td>0.674318</td>\n",
       "      <td>0.314709</td>\n",
       "      <td>430.053337</td>\n",
       "      <td>25.667272</td>\n",
       "      <td>698.767674</td>\n",
       "      <td>61.084838</td>\n",
       "      <td>19.04809</td>\n",
       "      <td>47.50297</td>\n",
       "    </tr>\n",
       "    <tr>\n",
       "      <th>3</th>\n",
       "      <td>3</td>\n",
       "      <td>206.561075</td>\n",
       "      <td>Entire home/apt</td>\n",
       "      <td>False</td>\n",
       "      <td>False</td>\n",
       "      <td>5.0</td>\n",
       "      <td>True</td>\n",
       "      <td>1</td>\n",
       "      <td>0</td>\n",
       "      <td>10.0</td>\n",
       "      <td>99.0</td>\n",
       "      <td>2</td>\n",
       "      <td>1.338114</td>\n",
       "      <td>0.614128</td>\n",
       "      <td>482.626888</td>\n",
       "      <td>28.805067</td>\n",
       "      <td>371.541633</td>\n",
       "      <td>32.479408</td>\n",
       "      <td>19.03685</td>\n",
       "      <td>47.50104</td>\n",
       "    </tr>\n",
       "    <tr>\n",
       "      <th>4</th>\n",
       "      <td>4</td>\n",
       "      <td>238.285473</td>\n",
       "      <td>Entire home/apt</td>\n",
       "      <td>False</td>\n",
       "      <td>False</td>\n",
       "      <td>4.0</td>\n",
       "      <td>False</td>\n",
       "      <td>1</td>\n",
       "      <td>0</td>\n",
       "      <td>9.0</td>\n",
       "      <td>84.0</td>\n",
       "      <td>0</td>\n",
       "      <td>0.835635</td>\n",
       "      <td>0.175568</td>\n",
       "      <td>535.762958</td>\n",
       "      <td>31.976437</td>\n",
       "      <td>534.317055</td>\n",
       "      <td>46.708902</td>\n",
       "      <td>19.04655</td>\n",
       "      <td>47.50398</td>\n",
       "    </tr>\n",
       "  </tbody>\n",
       "</table>\n",
       "</div>"
      ],
      "text/plain": [
       "   Unnamed: 0     realSum        room_type  room_shared  room_private  \\\n",
       "0           0  332.048691  Entire home/apt        False         False   \n",
       "1           1  331.108709  Entire home/apt        False         False   \n",
       "2           2  243.925365  Entire home/apt        False         False   \n",
       "3           3  206.561075  Entire home/apt        False         False   \n",
       "4           4  238.285473  Entire home/apt        False         False   \n",
       "\n",
       "   person_capacity  host_is_superhost  multi  biz  cleanliness_rating  \\\n",
       "0              6.0               True      0    1                10.0   \n",
       "1              6.0              False      0    1                 9.0   \n",
       "2              6.0              False      1    0                10.0   \n",
       "3              5.0               True      1    0                10.0   \n",
       "4              4.0              False      1    0                 9.0   \n",
       "\n",
       "   guest_satisfaction_overall  bedrooms      dist  metro_dist   attr_index  \\\n",
       "0                        99.0         1  0.359372    0.352662   404.398511   \n",
       "1                        98.0         2  0.929438    0.200219  1675.492994   \n",
       "2                        95.0         2  0.674318    0.314709   430.053337   \n",
       "3                        99.0         2  1.338114    0.614128   482.626888   \n",
       "4                        84.0         0  0.835635    0.175568   535.762958   \n",
       "\n",
       "   attr_index_norm  rest_index  rest_index_norm       lng       lat  \n",
       "0        24.136091  893.418228        78.100790  19.05074  47.50076  \n",
       "1       100.000000  452.536452        39.559809  19.04493  47.50405  \n",
       "2        25.667272  698.767674        61.084838  19.04809  47.50297  \n",
       "3        28.805067  371.541633        32.479408  19.03685  47.50104  \n",
       "4        31.976437  534.317055        46.708902  19.04655  47.50398  "
      ]
     },
     "execution_count": 3,
     "metadata": {},
     "output_type": "execute_result"
    }
   ],
   "source": [
    "df.head()"
   ]
  },
  {
   "cell_type": "code",
   "execution_count": 4,
   "id": "26d03d82",
   "metadata": {},
   "outputs": [],
   "source": [
    "df= df.drop('Unnamed: 0', axis= 1)\n",
    "df= df.drop(['attr_index', 'attr_index_norm', 'rest_index','rest_index_norm'], axis= 1)"
   ]
  },
  {
   "cell_type": "code",
   "execution_count": 5,
   "id": "2689c58e",
   "metadata": {},
   "outputs": [
    {
     "data": {
      "text/plain": [
       "(1948, 15)"
      ]
     },
     "execution_count": 5,
     "metadata": {},
     "output_type": "execute_result"
    }
   ],
   "source": [
    "df.shape"
   ]
  },
  {
   "cell_type": "code",
   "execution_count": 6,
   "id": "9a27ca2b",
   "metadata": {},
   "outputs": [
    {
     "data": {
      "text/html": [
       "<div>\n",
       "<style scoped>\n",
       "    .dataframe tbody tr th:only-of-type {\n",
       "        vertical-align: middle;\n",
       "    }\n",
       "\n",
       "    .dataframe tbody tr th {\n",
       "        vertical-align: top;\n",
       "    }\n",
       "\n",
       "    .dataframe thead th {\n",
       "        text-align: right;\n",
       "    }\n",
       "</style>\n",
       "<table border=\"1\" class=\"dataframe\">\n",
       "  <thead>\n",
       "    <tr style=\"text-align: right;\">\n",
       "      <th></th>\n",
       "      <th>realSum</th>\n",
       "      <th>person_capacity</th>\n",
       "      <th>multi</th>\n",
       "      <th>biz</th>\n",
       "      <th>cleanliness_rating</th>\n",
       "      <th>guest_satisfaction_overall</th>\n",
       "      <th>bedrooms</th>\n",
       "      <th>dist</th>\n",
       "      <th>metro_dist</th>\n",
       "      <th>lng</th>\n",
       "      <th>lat</th>\n",
       "    </tr>\n",
       "  </thead>\n",
       "  <tbody>\n",
       "    <tr>\n",
       "      <th>count</th>\n",
       "      <td>1948.000000</td>\n",
       "      <td>1948.000000</td>\n",
       "      <td>1948.000000</td>\n",
       "      <td>1948.000000</td>\n",
       "      <td>1948.000000</td>\n",
       "      <td>1948.000000</td>\n",
       "      <td>1948.000000</td>\n",
       "      <td>1948.000000</td>\n",
       "      <td>1948.000000</td>\n",
       "      <td>1948.000000</td>\n",
       "      <td>1948.000000</td>\n",
       "    </tr>\n",
       "    <tr>\n",
       "      <th>mean</th>\n",
       "      <td>185.120628</td>\n",
       "      <td>3.500000</td>\n",
       "      <td>0.308522</td>\n",
       "      <td>0.343943</td>\n",
       "      <td>9.486140</td>\n",
       "      <td>94.647331</td>\n",
       "      <td>1.087782</td>\n",
       "      <td>1.843958</td>\n",
       "      <td>0.530890</td>\n",
       "      <td>19.061170</td>\n",
       "      <td>47.499209</td>\n",
       "    </tr>\n",
       "    <tr>\n",
       "      <th>std</th>\n",
       "      <td>135.855683</td>\n",
       "      <td>1.251399</td>\n",
       "      <td>0.462002</td>\n",
       "      <td>0.475144</td>\n",
       "      <td>0.836576</td>\n",
       "      <td>6.520511</td>\n",
       "      <td>0.652123</td>\n",
       "      <td>1.833017</td>\n",
       "      <td>0.812586</td>\n",
       "      <td>0.022627</td>\n",
       "      <td>0.017012</td>\n",
       "    </tr>\n",
       "    <tr>\n",
       "      <th>min</th>\n",
       "      <td>34.779339</td>\n",
       "      <td>2.000000</td>\n",
       "      <td>0.000000</td>\n",
       "      <td>0.000000</td>\n",
       "      <td>2.000000</td>\n",
       "      <td>20.000000</td>\n",
       "      <td>0.000000</td>\n",
       "      <td>0.062962</td>\n",
       "      <td>0.002301</td>\n",
       "      <td>18.935290</td>\n",
       "      <td>47.396080</td>\n",
       "    </tr>\n",
       "    <tr>\n",
       "      <th>25%</th>\n",
       "      <td>128.248813</td>\n",
       "      <td>2.000000</td>\n",
       "      <td>0.000000</td>\n",
       "      <td>0.000000</td>\n",
       "      <td>9.000000</td>\n",
       "      <td>93.000000</td>\n",
       "      <td>1.000000</td>\n",
       "      <td>0.858242</td>\n",
       "      <td>0.225208</td>\n",
       "      <td>19.052413</td>\n",
       "      <td>47.491985</td>\n",
       "    </tr>\n",
       "    <tr>\n",
       "      <th>50%</th>\n",
       "      <td>160.031959</td>\n",
       "      <td>4.000000</td>\n",
       "      <td>0.000000</td>\n",
       "      <td>0.000000</td>\n",
       "      <td>10.000000</td>\n",
       "      <td>96.000000</td>\n",
       "      <td>1.000000</td>\n",
       "      <td>1.468258</td>\n",
       "      <td>0.345746</td>\n",
       "      <td>19.060000</td>\n",
       "      <td>47.499895</td>\n",
       "    </tr>\n",
       "    <tr>\n",
       "      <th>75%</th>\n",
       "      <td>208.969780</td>\n",
       "      <td>4.000000</td>\n",
       "      <td>1.000000</td>\n",
       "      <td>1.000000</td>\n",
       "      <td>10.000000</td>\n",
       "      <td>99.000000</td>\n",
       "      <td>1.000000</td>\n",
       "      <td>2.151871</td>\n",
       "      <td>0.521585</td>\n",
       "      <td>19.069780</td>\n",
       "      <td>47.507000</td>\n",
       "    </tr>\n",
       "    <tr>\n",
       "      <th>max</th>\n",
       "      <td>3751.233727</td>\n",
       "      <td>6.000000</td>\n",
       "      <td>1.000000</td>\n",
       "      <td>1.000000</td>\n",
       "      <td>10.000000</td>\n",
       "      <td>100.000000</td>\n",
       "      <td>3.000000</td>\n",
       "      <td>15.542074</td>\n",
       "      <td>8.359804</td>\n",
       "      <td>19.247000</td>\n",
       "      <td>47.599180</td>\n",
       "    </tr>\n",
       "  </tbody>\n",
       "</table>\n",
       "</div>"
      ],
      "text/plain": [
       "           realSum  person_capacity        multi          biz  \\\n",
       "count  1948.000000      1948.000000  1948.000000  1948.000000   \n",
       "mean    185.120628         3.500000     0.308522     0.343943   \n",
       "std     135.855683         1.251399     0.462002     0.475144   \n",
       "min      34.779339         2.000000     0.000000     0.000000   \n",
       "25%     128.248813         2.000000     0.000000     0.000000   \n",
       "50%     160.031959         4.000000     0.000000     0.000000   \n",
       "75%     208.969780         4.000000     1.000000     1.000000   \n",
       "max    3751.233727         6.000000     1.000000     1.000000   \n",
       "\n",
       "       cleanliness_rating  guest_satisfaction_overall     bedrooms  \\\n",
       "count         1948.000000                 1948.000000  1948.000000   \n",
       "mean             9.486140                   94.647331     1.087782   \n",
       "std              0.836576                    6.520511     0.652123   \n",
       "min              2.000000                   20.000000     0.000000   \n",
       "25%              9.000000                   93.000000     1.000000   \n",
       "50%             10.000000                   96.000000     1.000000   \n",
       "75%             10.000000                   99.000000     1.000000   \n",
       "max             10.000000                  100.000000     3.000000   \n",
       "\n",
       "              dist   metro_dist          lng          lat  \n",
       "count  1948.000000  1948.000000  1948.000000  1948.000000  \n",
       "mean      1.843958     0.530890    19.061170    47.499209  \n",
       "std       1.833017     0.812586     0.022627     0.017012  \n",
       "min       0.062962     0.002301    18.935290    47.396080  \n",
       "25%       0.858242     0.225208    19.052413    47.491985  \n",
       "50%       1.468258     0.345746    19.060000    47.499895  \n",
       "75%       2.151871     0.521585    19.069780    47.507000  \n",
       "max      15.542074     8.359804    19.247000    47.599180  "
      ]
     },
     "execution_count": 6,
     "metadata": {},
     "output_type": "execute_result"
    }
   ],
   "source": [
    "df.describe()"
   ]
  },
  {
   "cell_type": "code",
   "execution_count": 7,
   "id": "88f7374b",
   "metadata": {
    "scrolled": true
   },
   "outputs": [
    {
     "data": {
      "text/html": [
       "<div>\n",
       "<style scoped>\n",
       "    .dataframe tbody tr th:only-of-type {\n",
       "        vertical-align: middle;\n",
       "    }\n",
       "\n",
       "    .dataframe tbody tr th {\n",
       "        vertical-align: top;\n",
       "    }\n",
       "\n",
       "    .dataframe thead th {\n",
       "        text-align: right;\n",
       "    }\n",
       "</style>\n",
       "<table border=\"1\" class=\"dataframe\">\n",
       "  <thead>\n",
       "    <tr style=\"text-align: right;\">\n",
       "      <th></th>\n",
       "      <th>Total Unique</th>\n",
       "    </tr>\n",
       "  </thead>\n",
       "  <tbody>\n",
       "    <tr>\n",
       "      <th>realSum</th>\n",
       "      <td>714</td>\n",
       "    </tr>\n",
       "    <tr>\n",
       "      <th>room_type</th>\n",
       "      <td>3</td>\n",
       "    </tr>\n",
       "    <tr>\n",
       "      <th>room_shared</th>\n",
       "      <td>2</td>\n",
       "    </tr>\n",
       "    <tr>\n",
       "      <th>room_private</th>\n",
       "      <td>2</td>\n",
       "    </tr>\n",
       "    <tr>\n",
       "      <th>person_capacity</th>\n",
       "      <td>5</td>\n",
       "    </tr>\n",
       "    <tr>\n",
       "      <th>host_is_superhost</th>\n",
       "      <td>2</td>\n",
       "    </tr>\n",
       "    <tr>\n",
       "      <th>multi</th>\n",
       "      <td>2</td>\n",
       "    </tr>\n",
       "    <tr>\n",
       "      <th>biz</th>\n",
       "      <td>2</td>\n",
       "    </tr>\n",
       "    <tr>\n",
       "      <th>cleanliness_rating</th>\n",
       "      <td>8</td>\n",
       "    </tr>\n",
       "    <tr>\n",
       "      <th>guest_satisfaction_overall</th>\n",
       "      <td>34</td>\n",
       "    </tr>\n",
       "    <tr>\n",
       "      <th>bedrooms</th>\n",
       "      <td>4</td>\n",
       "    </tr>\n",
       "    <tr>\n",
       "      <th>dist</th>\n",
       "      <td>1948</td>\n",
       "    </tr>\n",
       "    <tr>\n",
       "      <th>metro_dist</th>\n",
       "      <td>1948</td>\n",
       "    </tr>\n",
       "    <tr>\n",
       "      <th>lng</th>\n",
       "      <td>1391</td>\n",
       "    </tr>\n",
       "    <tr>\n",
       "      <th>lat</th>\n",
       "      <td>1350</td>\n",
       "    </tr>\n",
       "  </tbody>\n",
       "</table>\n",
       "</div>"
      ],
      "text/plain": [
       "                            Total Unique\n",
       "realSum                              714\n",
       "room_type                              3\n",
       "room_shared                            2\n",
       "room_private                           2\n",
       "person_capacity                        5\n",
       "host_is_superhost                      2\n",
       "multi                                  2\n",
       "biz                                    2\n",
       "cleanliness_rating                     8\n",
       "guest_satisfaction_overall            34\n",
       "bedrooms                               4\n",
       "dist                                1948\n",
       "metro_dist                          1948\n",
       "lng                                 1391\n",
       "lat                                 1350"
      ]
     },
     "execution_count": 7,
     "metadata": {},
     "output_type": "execute_result"
    }
   ],
   "source": [
    "uniq= pd.DataFrame([len(df[df.columns[i]].unique()) for i in range(0,15)], index= df.columns, columns= ['Total Unique'])\n",
    "uniq"
   ]
  },
  {
   "cell_type": "code",
   "execution_count": 8,
   "id": "713a160b",
   "metadata": {},
   "outputs": [
    {
     "data": {
      "text/plain": [
       "162.381915    28\n",
       "136.767401    24\n",
       "116.087794    23\n",
       "139.117357    22\n",
       "137.002397    17\n",
       "              ..\n",
       "287.634535     1\n",
       "96.818160      1\n",
       "290.924472     1\n",
       "216.900879     1\n",
       "160.971942     1\n",
       "Name: realSum, Length: 714, dtype: int64"
      ]
     },
     "metadata": {},
     "output_type": "display_data"
    },
    {
     "name": "stdout",
     "output_type": "stream",
     "text": [
      "float64\n",
      "____________________________________________________________\n"
     ]
    },
    {
     "data": {
      "text/plain": [
       "Entire home/apt    1738\n",
       "Private room        203\n",
       "Shared room           7\n",
       "Name: room_type, dtype: int64"
      ]
     },
     "metadata": {},
     "output_type": "display_data"
    },
    {
     "name": "stdout",
     "output_type": "stream",
     "text": [
      "object\n",
      "____________________________________________________________\n"
     ]
    },
    {
     "data": {
      "text/plain": [
       "False    1941\n",
       "True        7\n",
       "Name: room_shared, dtype: int64"
      ]
     },
     "metadata": {},
     "output_type": "display_data"
    },
    {
     "name": "stdout",
     "output_type": "stream",
     "text": [
      "bool\n",
      "____________________________________________________________\n"
     ]
    },
    {
     "data": {
      "text/plain": [
       "False    1745\n",
       "True      203\n",
       "Name: room_private, dtype: int64"
      ]
     },
     "metadata": {},
     "output_type": "display_data"
    },
    {
     "name": "stdout",
     "output_type": "stream",
     "text": [
      "bool\n",
      "____________________________________________________________\n"
     ]
    },
    {
     "data": {
      "text/plain": [
       "4.0    779\n",
       "2.0    595\n",
       "3.0    276\n",
       "6.0    194\n",
       "5.0    104\n",
       "Name: person_capacity, dtype: int64"
      ]
     },
     "metadata": {},
     "output_type": "display_data"
    },
    {
     "name": "stdout",
     "output_type": "stream",
     "text": [
      "float64\n",
      "____________________________________________________________\n"
     ]
    },
    {
     "data": {
      "text/plain": [
       "False    1189\n",
       "True      759\n",
       "Name: host_is_superhost, dtype: int64"
      ]
     },
     "metadata": {},
     "output_type": "display_data"
    },
    {
     "name": "stdout",
     "output_type": "stream",
     "text": [
      "bool\n",
      "____________________________________________________________\n"
     ]
    },
    {
     "data": {
      "text/plain": [
       "0    1347\n",
       "1     601\n",
       "Name: multi, dtype: int64"
      ]
     },
     "metadata": {},
     "output_type": "display_data"
    },
    {
     "name": "stdout",
     "output_type": "stream",
     "text": [
      "int64\n",
      "____________________________________________________________\n"
     ]
    },
    {
     "data": {
      "text/plain": [
       "0    1278\n",
       "1     670\n",
       "Name: biz, dtype: int64"
      ]
     },
     "metadata": {},
     "output_type": "display_data"
    },
    {
     "name": "stdout",
     "output_type": "stream",
     "text": [
      "int64\n",
      "____________________________________________________________\n"
     ]
    },
    {
     "data": {
      "text/plain": [
       "10.0    1180\n",
       "9.0      619\n",
       "8.0      115\n",
       "7.0       16\n",
       "6.0        7\n",
       "2.0        6\n",
       "4.0        3\n",
       "5.0        2\n",
       "Name: cleanliness_rating, dtype: int64"
      ]
     },
     "metadata": {},
     "output_type": "display_data"
    },
    {
     "name": "stdout",
     "output_type": "stream",
     "text": [
      "float64\n",
      "____________________________________________________________\n"
     ]
    },
    {
     "data": {
      "text/plain": [
       "100.0    365\n",
       "98.0     229\n",
       "97.0     206\n",
       "96.0     176\n",
       "95.0     158\n",
       "93.0     138\n",
       "99.0     128\n",
       "94.0      94\n",
       "92.0      84\n",
       "90.0      83\n",
       "91.0      53\n",
       "89.0      36\n",
       "80.0      34\n",
       "88.0      32\n",
       "87.0      26\n",
       "85.0      17\n",
       "86.0      17\n",
       "84.0      14\n",
       "83.0      11\n",
       "60.0      10\n",
       "70.0       7\n",
       "82.0       7\n",
       "75.0       4\n",
       "77.0       3\n",
       "20.0       3\n",
       "72.0       2\n",
       "81.0       2\n",
       "73.0       2\n",
       "79.0       2\n",
       "67.0       1\n",
       "76.0       1\n",
       "69.0       1\n",
       "65.0       1\n",
       "40.0       1\n",
       "Name: guest_satisfaction_overall, dtype: int64"
      ]
     },
     "metadata": {},
     "output_type": "display_data"
    },
    {
     "name": "stdout",
     "output_type": "stream",
     "text": [
      "float64\n",
      "____________________________________________________________\n"
     ]
    },
    {
     "data": {
      "text/plain": [
       "1    1222\n",
       "2     390\n",
       "0     297\n",
       "3      39\n",
       "Name: bedrooms, dtype: int64"
      ]
     },
     "metadata": {},
     "output_type": "display_data"
    },
    {
     "name": "stdout",
     "output_type": "stream",
     "text": [
      "int64\n",
      "____________________________________________________________\n"
     ]
    },
    {
     "data": {
      "text/plain": [
       "0.359372    1\n",
       "0.460582    1\n",
       "1.431042    1\n",
       "2.018246    1\n",
       "0.833256    1\n",
       "           ..\n",
       "0.777738    1\n",
       "0.104991    1\n",
       "0.497426    1\n",
       "1.087397    1\n",
       "1.669965    1\n",
       "Name: dist, Length: 1948, dtype: int64"
      ]
     },
     "metadata": {},
     "output_type": "display_data"
    },
    {
     "name": "stdout",
     "output_type": "stream",
     "text": [
      "float64\n",
      "____________________________________________________________\n"
     ]
    },
    {
     "data": {
      "text/plain": [
       "0.352662    1\n",
       "0.126885    1\n",
       "0.391404    1\n",
       "0.482555    1\n",
       "0.289910    1\n",
       "           ..\n",
       "0.192806    1\n",
       "0.158565    1\n",
       "0.042299    1\n",
       "0.246041    1\n",
       "0.272524    1\n",
       "Name: metro_dist, Length: 1948, dtype: int64"
      ]
     },
     "metadata": {},
     "output_type": "display_data"
    },
    {
     "name": "stdout",
     "output_type": "stream",
     "text": [
      "float64\n",
      "____________________________________________________________\n"
     ]
    },
    {
     "data": {
      "text/plain": [
       "19.05300    28\n",
       "19.06000    25\n",
       "19.05500    19\n",
       "19.05600    18\n",
       "19.05800    17\n",
       "            ..\n",
       "19.06120     1\n",
       "19.05394     1\n",
       "19.05960     1\n",
       "19.06005     1\n",
       "19.09776     1\n",
       "Name: lng, Length: 1391, dtype: int64"
      ]
     },
     "metadata": {},
     "output_type": "display_data"
    },
    {
     "name": "stdout",
     "output_type": "stream",
     "text": [
      "float64\n",
      "____________________________________________________________\n"
     ]
    },
    {
     "data": {
      "text/plain": [
       "47.49800    30\n",
       "47.49900    24\n",
       "47.50000    24\n",
       "47.49700    22\n",
       "47.49600    21\n",
       "            ..\n",
       "47.49043     1\n",
       "47.46792     1\n",
       "47.46998     1\n",
       "47.46205     1\n",
       "47.39608     1\n",
       "Name: lat, Length: 1350, dtype: int64"
      ]
     },
     "metadata": {},
     "output_type": "display_data"
    },
    {
     "name": "stdout",
     "output_type": "stream",
     "text": [
      "float64\n",
      "____________________________________________________________\n"
     ]
    }
   ],
   "source": [
    "for x in df:\n",
    "    display(df[x].value_counts())\n",
    "    print(df[x].dtypes)\n",
    "    print(\"___\"*20)"
   ]
  },
  {
   "cell_type": "markdown",
   "id": "2bf22a36",
   "metadata": {},
   "source": [
    "## EDA"
   ]
  },
  {
   "cell_type": "code",
   "execution_count": 9,
   "id": "0d38e3ca",
   "metadata": {
    "scrolled": false
   },
   "outputs": [
    {
     "data": {
      "image/png": "[encoded data removed]",
      "text/plain": [
       "<Figure size 1000x500 with 2 Axes>"
      ]
     },
     "metadata": {},
     "output_type": "display_data"
    }
   ],
   "source": [
    "capacity= pd.DataFrame(df.groupby(['person_capacity', 'room_type'])['realSum'].mean()).reset_index()\n",
    "fig, (ax1,ax2)= plt.subplots(1,2, figsize=(10,5))\n",
    "\n",
    "df.groupby('person_capacity')['realSum'].mean().sort_values(ascending= False).plot.pie(shadow = True, explode=[0.1, 0,0,0,0],\n",
    "                                        autopct='%.2f%%', textprops={'fontsize':12}, \n",
    "                                        startangle=165, colors=['#804674', '#F01436', '#b09391', '#DF7857', '#617143'], ax= ax1)\n",
    "sns.barplot(x= 'person_capacity', y='realSum', hue='room_type', data= capacity, palette= 'gist_ncar', ax= ax2)\n",
    "ax1.set_title('person capacity')\n",
    "\n",
    "plt.tight_layout();"
   ]
  },
  {
   "cell_type": "markdown",
   "id": "07e7fd95",
   "metadata": {},
   "source": [
    "insights:\n",
    "- The fewer rooms that can be occupied by people, the lower average price is as well.\n",
    "- The highest average price is for a room that can be filled with a maximum of 6 people.\n",
    "- Depending on the type of room, Entire home room types tend to be more expensive than other room types. But in a capacity filled with two people, in a shared room, prices tend to be more expensive. This can happen because visitors or travelers order 1 room but ask for additional bed facilities or request a smoking room with a larger room, which is more expensive than the entire home, and this additional fee is a strategy from the Airbnb host itself."
   ]
  },
  {
   "cell_type": "code",
   "execution_count": 10,
   "id": "00ca38ae",
   "metadata": {
    "scrolled": false
   },
   "outputs": [
    {
     "data": {
      "image/png": "[encoded data removed]",
      "text/plain": [
       "<Figure size 1000x500 with 2 Axes>"
      ]
     },
     "metadata": {},
     "output_type": "display_data"
    }
   ],
   "source": [
    "income= df.groupby(['room_type','host_is_superhost'])['realSum'].mean()\n",
    "income= pd.DataFrame(income).reset_index()\n",
    "fig, (ax1,ax2)= plt.subplots(1,2, figsize=(10,5))\n",
    "\n",
    "sns.barplot(x=income['room_type'], y=income['realSum'], hue=income['host_is_superhost'], palette= 'Accent_r', ax= ax1)\n",
    "sns.histplot(x= 'guest_satisfaction_overall', hue='room_type', data= df, bins= 30, kde= True, ax= ax2)\n",
    "ax2.set_xlim((70,100))\n",
    "plt.tight_layout();"
   ]
  },
  {
   "cell_type": "markdown",
   "id": "578f7367",
   "metadata": {},
   "source": [
    "insights:\n",
    "- Hosts have the highest average income in the room type. Entire home/apt. This is very common, because it was reported by a source who said only 19.4% of hosts achieve the status of \"Superhost\" (source: hospitable.com). The title \"Superhostitself is a badge of honor given to Airbnb hosts that meet certain strict criteria.\n",
    "- The average visitor gives a high rating of around 95–100, with a high number of entires or apartments.This is sufficient to prove that the customer is satisfied with the existing services and facilities."
   ]
  },
  {
   "cell_type": "markdown",
   "id": "0d3647f6",
   "metadata": {},
   "source": [
    "### DATA PREPROCESSING"
   ]
  },
  {
   "cell_type": "code",
   "execution_count": 11,
   "id": "f4bf8a17",
   "metadata": {},
   "outputs": [],
   "source": [
    "from sklearn.model_selection import train_test_split"
   ]
  },
  {
   "cell_type": "code",
   "execution_count": 12,
   "id": "a57b7b29",
   "metadata": {},
   "outputs": [],
   "source": [
    "X = df.drop('realSum', axis=1)\n",
    "y = np.log(df['realSum'])"
   ]
  },
  {
   "cell_type": "markdown",
   "id": "77cb5ee8",
   "metadata": {},
   "source": [
    "### FEATURE SELECTION"
   ]
  },
  {
   "cell_type": "code",
   "execution_count": 13,
   "id": "8078ca97",
   "metadata": {
    "scrolled": true
   },
   "outputs": [
    {
     "data": {
      "text/html": [
       "<div>\n",
       "<style scoped>\n",
       "    .dataframe tbody tr th:only-of-type {\n",
       "        vertical-align: middle;\n",
       "    }\n",
       "\n",
       "    .dataframe tbody tr th {\n",
       "        vertical-align: top;\n",
       "    }\n",
       "\n",
       "    .dataframe thead th {\n",
       "        text-align: right;\n",
       "    }\n",
       "</style>\n",
       "<table border=\"1\" class=\"dataframe\">\n",
       "  <thead>\n",
       "    <tr style=\"text-align: right;\">\n",
       "      <th></th>\n",
       "      <th>variables</th>\n",
       "      <th>VIF</th>\n",
       "    </tr>\n",
       "  </thead>\n",
       "  <tbody>\n",
       "    <tr>\n",
       "      <th>0</th>\n",
       "      <td>person_capacity</td>\n",
       "      <td>12.65</td>\n",
       "    </tr>\n",
       "    <tr>\n",
       "      <th>1</th>\n",
       "      <td>multi</td>\n",
       "      <td>1.92</td>\n",
       "    </tr>\n",
       "    <tr>\n",
       "      <th>2</th>\n",
       "      <td>biz</td>\n",
       "      <td>2.12</td>\n",
       "    </tr>\n",
       "    <tr>\n",
       "      <th>3</th>\n",
       "      <td>cleanliness_rating</td>\n",
       "      <td>252.52</td>\n",
       "    </tr>\n",
       "    <tr>\n",
       "      <th>4</th>\n",
       "      <td>guest_satisfaction_overall</td>\n",
       "      <td>415.60</td>\n",
       "    </tr>\n",
       "    <tr>\n",
       "      <th>5</th>\n",
       "      <td>bedrooms</td>\n",
       "      <td>5.41</td>\n",
       "    </tr>\n",
       "    <tr>\n",
       "      <th>6</th>\n",
       "      <td>dist</td>\n",
       "      <td>7.70</td>\n",
       "    </tr>\n",
       "    <tr>\n",
       "      <th>7</th>\n",
       "      <td>metro_dist</td>\n",
       "      <td>4.65</td>\n",
       "    </tr>\n",
       "    <tr>\n",
       "      <th>8</th>\n",
       "      <td>lng</td>\n",
       "      <td>730752.11</td>\n",
       "    </tr>\n",
       "    <tr>\n",
       "      <th>9</th>\n",
       "      <td>lat</td>\n",
       "      <td>729905.45</td>\n",
       "    </tr>\n",
       "  </tbody>\n",
       "</table>\n",
       "</div>"
      ],
      "text/plain": [
       "                    variables        VIF\n",
       "0             person_capacity      12.65\n",
       "1                       multi       1.92\n",
       "2                         biz       2.12\n",
       "3          cleanliness_rating     252.52\n",
       "4  guest_satisfaction_overall     415.60\n",
       "5                    bedrooms       5.41\n",
       "6                        dist       7.70\n",
       "7                  metro_dist       4.65\n",
       "8                         lng  730752.11\n",
       "9                         lat  729905.45"
      ]
     },
     "execution_count": 13,
     "metadata": {},
     "output_type": "execute_result"
    }
   ],
   "source": [
    "vif_=X[['person_capacity', 'multi', 'biz','cleanliness_rating',  'guest_satisfaction_overall',\n",
    "                      'bedrooms', 'dist', 'metro_dist', 'lng','lat']]\n",
    "vif = pd.DataFrame()\n",
    "vif[\"variables\"] = vif_.columns\n",
    "vif[\"VIF\"] = [variance_inflation_factor(vif_.values, i).round(2) for i in range(vif_.shape[1])]\n",
    "vif  "
   ]
  },
  {
   "cell_type": "code",
   "execution_count": 14,
   "id": "e2d3d49b",
   "metadata": {},
   "outputs": [
    {
     "data": {
      "text/html": [
       "<div>\n",
       "<style scoped>\n",
       "    .dataframe tbody tr th:only-of-type {\n",
       "        vertical-align: middle;\n",
       "    }\n",
       "\n",
       "    .dataframe tbody tr th {\n",
       "        vertical-align: top;\n",
       "    }\n",
       "\n",
       "    .dataframe thead th {\n",
       "        text-align: right;\n",
       "    }\n",
       "</style>\n",
       "<table border=\"1\" class=\"dataframe\">\n",
       "  <thead>\n",
       "    <tr style=\"text-align: right;\">\n",
       "      <th></th>\n",
       "      <th>room_type</th>\n",
       "      <th>room_shared</th>\n",
       "      <th>room_private</th>\n",
       "      <th>person_capacity</th>\n",
       "      <th>host_is_superhost</th>\n",
       "      <th>multi</th>\n",
       "      <th>biz</th>\n",
       "      <th>cleanliness_rating</th>\n",
       "      <th>guest_satisfaction_overall</th>\n",
       "      <th>bedrooms</th>\n",
       "      <th>dist</th>\n",
       "      <th>metro_dist</th>\n",
       "      <th>lng</th>\n",
       "      <th>lat</th>\n",
       "    </tr>\n",
       "  </thead>\n",
       "  <tbody>\n",
       "    <tr>\n",
       "      <th>0</th>\n",
       "      <td>2</td>\n",
       "      <td>0</td>\n",
       "      <td>0</td>\n",
       "      <td>6.0</td>\n",
       "      <td>1</td>\n",
       "      <td>0</td>\n",
       "      <td>1</td>\n",
       "      <td>10.0</td>\n",
       "      <td>99.0</td>\n",
       "      <td>1</td>\n",
       "      <td>0.359372</td>\n",
       "      <td>0.352662</td>\n",
       "      <td>19.05074</td>\n",
       "      <td>47.50076</td>\n",
       "    </tr>\n",
       "    <tr>\n",
       "      <th>1</th>\n",
       "      <td>2</td>\n",
       "      <td>0</td>\n",
       "      <td>0</td>\n",
       "      <td>6.0</td>\n",
       "      <td>0</td>\n",
       "      <td>0</td>\n",
       "      <td>1</td>\n",
       "      <td>9.0</td>\n",
       "      <td>98.0</td>\n",
       "      <td>2</td>\n",
       "      <td>0.929438</td>\n",
       "      <td>0.200219</td>\n",
       "      <td>19.04493</td>\n",
       "      <td>47.50405</td>\n",
       "    </tr>\n",
       "    <tr>\n",
       "      <th>2</th>\n",
       "      <td>2</td>\n",
       "      <td>0</td>\n",
       "      <td>0</td>\n",
       "      <td>6.0</td>\n",
       "      <td>0</td>\n",
       "      <td>1</td>\n",
       "      <td>0</td>\n",
       "      <td>10.0</td>\n",
       "      <td>95.0</td>\n",
       "      <td>2</td>\n",
       "      <td>0.674318</td>\n",
       "      <td>0.314709</td>\n",
       "      <td>19.04809</td>\n",
       "      <td>47.50297</td>\n",
       "    </tr>\n",
       "    <tr>\n",
       "      <th>3</th>\n",
       "      <td>2</td>\n",
       "      <td>0</td>\n",
       "      <td>0</td>\n",
       "      <td>5.0</td>\n",
       "      <td>1</td>\n",
       "      <td>1</td>\n",
       "      <td>0</td>\n",
       "      <td>10.0</td>\n",
       "      <td>99.0</td>\n",
       "      <td>2</td>\n",
       "      <td>1.338114</td>\n",
       "      <td>0.614128</td>\n",
       "      <td>19.03685</td>\n",
       "      <td>47.50104</td>\n",
       "    </tr>\n",
       "    <tr>\n",
       "      <th>4</th>\n",
       "      <td>2</td>\n",
       "      <td>0</td>\n",
       "      <td>0</td>\n",
       "      <td>4.0</td>\n",
       "      <td>0</td>\n",
       "      <td>1</td>\n",
       "      <td>0</td>\n",
       "      <td>9.0</td>\n",
       "      <td>84.0</td>\n",
       "      <td>0</td>\n",
       "      <td>0.835635</td>\n",
       "      <td>0.175568</td>\n",
       "      <td>19.04655</td>\n",
       "      <td>47.50398</td>\n",
       "    </tr>\n",
       "  </tbody>\n",
       "</table>\n",
       "</div>"
      ],
      "text/plain": [
       "   room_type  room_shared  room_private  person_capacity  host_is_superhost  \\\n",
       "0          2            0             0              6.0                  1   \n",
       "1          2            0             0              6.0                  0   \n",
       "2          2            0             0              6.0                  0   \n",
       "3          2            0             0              5.0                  1   \n",
       "4          2            0             0              4.0                  0   \n",
       "\n",
       "   multi  biz  cleanliness_rating  guest_satisfaction_overall  bedrooms  \\\n",
       "0      0    1                10.0                        99.0         1   \n",
       "1      0    1                 9.0                        98.0         2   \n",
       "2      1    0                10.0                        95.0         2   \n",
       "3      1    0                10.0                        99.0         2   \n",
       "4      1    0                 9.0                        84.0         0   \n",
       "\n",
       "       dist  metro_dist       lng       lat  \n",
       "0  0.359372    0.352662  19.05074  47.50076  \n",
       "1  0.929438    0.200219  19.04493  47.50405  \n",
       "2  0.674318    0.314709  19.04809  47.50297  \n",
       "3  1.338114    0.614128  19.03685  47.50104  \n",
       "4  0.835635    0.175568  19.04655  47.50398  "
      ]
     },
     "execution_count": 14,
     "metadata": {},
     "output_type": "execute_result"
    }
   ],
   "source": [
    "mapping= {True: 1, False: 0}\n",
    "rt= {'Entire home/apt': 2, 'Private room': 1,'Shared room': 0}\n",
    "X['room_type']= X['room_type'].map(rt)\n",
    "X['room_shared']= X['room_shared'].map(mapping)\n",
    "X['room_private']= X['room_private'].map(mapping)\n",
    "X['host_is_superhost']= X['host_is_superhost'].map(mapping)\n",
    "X.head()"
   ]
  },
  {
   "cell_type": "code",
   "execution_count": 15,
   "id": "6ebae910",
   "metadata": {},
   "outputs": [],
   "source": [
    "X= X.drop(['host_is_superhost','lng','lat'], axis= 1)"
   ]
  },
  {
   "cell_type": "code",
   "execution_count": 16,
   "id": "56cf04ea",
   "metadata": {},
   "outputs": [
    {
     "data": {
      "image/png": "[encoded data removed]",
      "text/plain": [
       "<Figure size 640x480 with 2 Axes>"
      ]
     },
     "metadata": {},
     "output_type": "display_data"
    }
   ],
   "source": [
    "gabung= X.join(y)\n",
    "gabung\n",
    "sns.heatmap(gabung.corr()[['realSum']].sort_values(by= ['realSum'], ascending= False), annot = True);"
   ]
  },
  {
   "cell_type": "markdown",
   "id": "75060696",
   "metadata": {},
   "source": [
    "## SPLIT DATA"
   ]
  },
  {
   "cell_type": "code",
   "execution_count": 17,
   "id": "aaa28713",
   "metadata": {},
   "outputs": [],
   "source": [
    "X_train, X_test, y_train, y_test = train_test_split(X, y, test_size=0.3, random_state=42)"
   ]
  },
  {
   "cell_type": "markdown",
   "id": "28db42e2",
   "metadata": {},
   "source": [
    "## Model 1 (Linear Regression)"
   ]
  },
  {
   "cell_type": "code",
   "execution_count": 18,
   "id": "b153bc8f",
   "metadata": {},
   "outputs": [],
   "source": [
    "from sklearn.metrics import mean_absolute_percentage_error as mape\n",
    "from sklearn.metrics import mean_absolute_error as mae\n",
    "from sklearn.metrics import mean_squared_error as mse\n",
    "from sklearn.linear_model import LinearRegression\n",
    "from sklearn.metrics import r2_score"
   ]
  },
  {
   "cell_type": "code",
   "execution_count": 19,
   "id": "ff8ba300",
   "metadata": {},
   "outputs": [],
   "source": [
    "lr = LinearRegression()\n",
    "lr.fit(X_train,y_train)\n",
    "y_pred = lr.predict(X_test)"
   ]
  },
  {
   "cell_type": "code",
   "execution_count": 20,
   "id": "aa5f0920",
   "metadata": {
    "scrolled": true
   },
   "outputs": [
    {
     "name": "stdout",
     "output_type": "stream",
     "text": [
      "R2 score: 0.3421413653293943\n",
      "mape score: 0.050534485595070525\n",
      "mae score: 0.26019991793424074\n",
      "rmse score: 0.3502421701408209\n",
      "mse score: 0.1226695777449517\n"
     ]
    }
   ],
   "source": [
    "print('R2 score:',(r2_score(y_test,y_pred)))\n",
    "print('mape score:',mape(y_test,y_pred))\n",
    "print('mae score:',mae(y_test,y_pred))\n",
    "print('rmse score:',mse(y_test,y_pred,squared=False))\n",
    "print('mse score:',mse(y_test,y_pred))"
   ]
  },
  {
   "cell_type": "code",
   "execution_count": 21,
   "id": "abdd6814",
   "metadata": {
    "scrolled": true
   },
   "outputs": [
    {
     "data": {
      "text/plain": [
       "(0.3421413653293943, 0.27699409016704024)"
      ]
     },
     "execution_count": 21,
     "metadata": {},
     "output_type": "execute_result"
    }
   ],
   "source": [
    "lr.score(X_test, y_test), lr.score(X_train, y_train)"
   ]
  },
  {
   "cell_type": "markdown",
   "id": "1acb70b0",
   "metadata": {},
   "source": [
    "- The data shows the occurrence of Underfitting and the resulting error percentage is 5%. This data underfitting occurs, there could be Data Leakage."
   ]
  },
  {
   "cell_type": "markdown",
   "id": "95168b21",
   "metadata": {},
   "source": [
    "## STATMODELS"
   ]
  },
  {
   "cell_type": "code",
   "execution_count": 22,
   "id": "45cb3f54",
   "metadata": {},
   "outputs": [],
   "source": [
    "import statsmodels.api as sm"
   ]
  },
  {
   "cell_type": "code",
   "execution_count": 23,
   "id": "e55dd3a5",
   "metadata": {
    "scrolled": true
   },
   "outputs": [
    {
     "data": {
      "text/html": [
       "<table class=\"simpletable\">\n",
       "<caption>OLS Regression Results</caption>\n",
       "<tr>\n",
       "  <th>Dep. Variable:</th>         <td>realSum</td>     <th>  R-squared:         </th> <td>   0.277</td>\n",
       "</tr>\n",
       "<tr>\n",
       "  <th>Model:</th>                   <td>OLS</td>       <th>  Adj. R-squared:    </th> <td>   0.272</td>\n",
       "</tr>\n",
       "<tr>\n",
       "  <th>Method:</th>             <td>Least Squares</td>  <th>  F-statistic:       </th> <td>   51.80</td>\n",
       "</tr>\n",
       "<tr>\n",
       "  <th>Date:</th>             <td>Thu, 09 Mar 2023</td> <th>  Prob (F-statistic):</th> <td>3.18e-88</td>\n",
       "</tr>\n",
       "<tr>\n",
       "  <th>Time:</th>                 <td>13:46:24</td>     <th>  Log-Likelihood:    </th> <td> -569.43</td>\n",
       "</tr>\n",
       "<tr>\n",
       "  <th>No. Observations:</th>      <td>  1363</td>      <th>  AIC:               </th> <td>   1161.</td>\n",
       "</tr>\n",
       "<tr>\n",
       "  <th>Df Residuals:</th>          <td>  1352</td>      <th>  BIC:               </th> <td>   1218.</td>\n",
       "</tr>\n",
       "<tr>\n",
       "  <th>Df Model:</th>              <td>    10</td>      <th>                     </th>     <td> </td>   \n",
       "</tr>\n",
       "<tr>\n",
       "  <th>Covariance Type:</th>      <td>nonrobust</td>    <th>                     </th>     <td> </td>   \n",
       "</tr>\n",
       "</table>\n",
       "<table class=\"simpletable\">\n",
       "<tr>\n",
       "               <td></td>                 <th>coef</th>     <th>std err</th>      <th>t</th>      <th>P>|t|</th>  <th>[0.025</th>    <th>0.975]</th>  \n",
       "</tr>\n",
       "<tr>\n",
       "  <th>const</th>                      <td>    2.5609</td> <td>    0.116</td> <td>   22.160</td> <td> 0.000</td> <td>    2.334</td> <td>    2.788</td>\n",
       "</tr>\n",
       "<tr>\n",
       "  <th>room_type</th>                  <td>    0.9890</td> <td>    0.044</td> <td>   22.466</td> <td> 0.000</td> <td>    0.903</td> <td>    1.075</td>\n",
       "</tr>\n",
       "<tr>\n",
       "  <th>room_shared</th>                <td>    1.7388</td> <td>    0.114</td> <td>   15.296</td> <td> 0.000</td> <td>    1.516</td> <td>    1.962</td>\n",
       "</tr>\n",
       "<tr>\n",
       "  <th>room_private</th>               <td>    0.6550</td> <td>    0.052</td> <td>   12.678</td> <td> 0.000</td> <td>    0.554</td> <td>    0.756</td>\n",
       "</tr>\n",
       "<tr>\n",
       "  <th>person_capacity</th>            <td>    0.0683</td> <td>    0.010</td> <td>    6.853</td> <td> 0.000</td> <td>    0.049</td> <td>    0.088</td>\n",
       "</tr>\n",
       "<tr>\n",
       "  <th>multi</th>                      <td>   -0.0208</td> <td>    0.025</td> <td>   -0.837</td> <td> 0.403</td> <td>   -0.070</td> <td>    0.028</td>\n",
       "</tr>\n",
       "<tr>\n",
       "  <th>biz</th>                        <td>    0.0616</td> <td>    0.025</td> <td>    2.470</td> <td> 0.014</td> <td>    0.013</td> <td>    0.111</td>\n",
       "</tr>\n",
       "<tr>\n",
       "  <th>cleanliness_rating</th>         <td>    0.0524</td> <td>    0.016</td> <td>    3.279</td> <td> 0.001</td> <td>    0.021</td> <td>    0.084</td>\n",
       "</tr>\n",
       "<tr>\n",
       "  <th>guest_satisfaction_overall</th> <td>   -0.0020</td> <td>    0.002</td> <td>   -0.907</td> <td> 0.365</td> <td>   -0.006</td> <td>    0.002</td>\n",
       "</tr>\n",
       "<tr>\n",
       "  <th>bedrooms</th>                   <td>    0.1224</td> <td>    0.018</td> <td>    6.643</td> <td> 0.000</td> <td>    0.086</td> <td>    0.159</td>\n",
       "</tr>\n",
       "<tr>\n",
       "  <th>dist</th>                       <td>   -0.0589</td> <td>    0.010</td> <td>   -6.157</td> <td> 0.000</td> <td>   -0.078</td> <td>   -0.040</td>\n",
       "</tr>\n",
       "<tr>\n",
       "  <th>metro_dist</th>                 <td>    0.0373</td> <td>    0.021</td> <td>    1.784</td> <td> 0.075</td> <td>   -0.004</td> <td>    0.078</td>\n",
       "</tr>\n",
       "</table>\n",
       "<table class=\"simpletable\">\n",
       "<tr>\n",
       "  <th>Omnibus:</th>       <td>421.936</td> <th>  Durbin-Watson:     </th> <td>   2.072</td>\n",
       "</tr>\n",
       "<tr>\n",
       "  <th>Prob(Omnibus):</th> <td> 0.000</td>  <th>  Jarque-Bera (JB):  </th> <td>2420.857</td>\n",
       "</tr>\n",
       "<tr>\n",
       "  <th>Skew:</th>          <td> 1.316</td>  <th>  Prob(JB):          </th> <td>    0.00</td>\n",
       "</tr>\n",
       "<tr>\n",
       "  <th>Kurtosis:</th>      <td> 8.975</td>  <th>  Cond. No.          </th> <td>4.41e+17</td>\n",
       "</tr>\n",
       "</table><br/><br/>Notes:<br/>[1] Standard Errors assume that the covariance matrix of the errors is correctly specified.<br/>[2] The smallest eigenvalue is 6.38e-29. This might indicate that there are<br/>strong multicollinearity problems or that the design matrix is singular."
      ],
      "text/plain": [
       "<class 'statsmodels.iolib.summary.Summary'>\n",
       "\"\"\"\n",
       "                            OLS Regression Results                            \n",
       "==============================================================================\n",
       "Dep. Variable:                realSum   R-squared:                       0.277\n",
       "Model:                            OLS   Adj. R-squared:                  0.272\n",
       "Method:                 Least Squares   F-statistic:                     51.80\n",
       "Date:                Thu, 09 Mar 2023   Prob (F-statistic):           3.18e-88\n",
       "Time:                        13:46:24   Log-Likelihood:                -569.43\n",
       "No. Observations:                1363   AIC:                             1161.\n",
       "Df Residuals:                    1352   BIC:                             1218.\n",
       "Df Model:                          10                                         \n",
       "Covariance Type:            nonrobust                                         \n",
       "==============================================================================================\n",
       "                                 coef    std err          t      P>|t|      [0.025      0.975]\n",
       "----------------------------------------------------------------------------------------------\n",
       "const                          2.5609      0.116     22.160      0.000       2.334       2.788\n",
       "room_type                      0.9890      0.044     22.466      0.000       0.903       1.075\n",
       "room_shared                    1.7388      0.114     15.296      0.000       1.516       1.962\n",
       "room_private                   0.6550      0.052     12.678      0.000       0.554       0.756\n",
       "person_capacity                0.0683      0.010      6.853      0.000       0.049       0.088\n",
       "multi                         -0.0208      0.025     -0.837      0.403      -0.070       0.028\n",
       "biz                            0.0616      0.025      2.470      0.014       0.013       0.111\n",
       "cleanliness_rating             0.0524      0.016      3.279      0.001       0.021       0.084\n",
       "guest_satisfaction_overall    -0.0020      0.002     -0.907      0.365      -0.006       0.002\n",
       "bedrooms                       0.1224      0.018      6.643      0.000       0.086       0.159\n",
       "dist                          -0.0589      0.010     -6.157      0.000      -0.078      -0.040\n",
       "metro_dist                     0.0373      0.021      1.784      0.075      -0.004       0.078\n",
       "==============================================================================\n",
       "Omnibus:                      421.936   Durbin-Watson:                   2.072\n",
       "Prob(Omnibus):                  0.000   Jarque-Bera (JB):             2420.857\n",
       "Skew:                           1.316   Prob(JB):                         0.00\n",
       "Kurtosis:                       8.975   Cond. No.                     4.41e+17\n",
       "==============================================================================\n",
       "\n",
       "Notes:\n",
       "[1] Standard Errors assume that the covariance matrix of the errors is correctly specified.\n",
       "[2] The smallest eigenvalue is 6.38e-29. This might indicate that there are\n",
       "strong multicollinearity problems or that the design matrix is singular.\n",
       "\"\"\""
      ]
     },
     "execution_count": 23,
     "metadata": {},
     "output_type": "execute_result"
    }
   ],
   "source": [
    "x1 = sm.add_constant(X_train)\n",
    "results = sm.OLS(y_train,x1).fit()\n",
    "results.summary()"
   ]
  },
  {
   "cell_type": "code",
   "execution_count": 24,
   "id": "882fde54",
   "metadata": {},
   "outputs": [
    {
     "data": {
      "text/html": [
       "<div>\n",
       "<style scoped>\n",
       "    .dataframe tbody tr th:only-of-type {\n",
       "        vertical-align: middle;\n",
       "    }\n",
       "\n",
       "    .dataframe tbody tr th {\n",
       "        vertical-align: top;\n",
       "    }\n",
       "\n",
       "    .dataframe thead th {\n",
       "        text-align: right;\n",
       "    }\n",
       "</style>\n",
       "<table border=\"1\" class=\"dataframe\">\n",
       "  <thead>\n",
       "    <tr style=\"text-align: right;\">\n",
       "      <th></th>\n",
       "      <th>pval</th>\n",
       "      <th>param</th>\n",
       "    </tr>\n",
       "  </thead>\n",
       "  <tbody>\n",
       "    <tr>\n",
       "      <th>const</th>\n",
       "      <td>0.00000</td>\n",
       "      <td>2.56085</td>\n",
       "    </tr>\n",
       "    <tr>\n",
       "      <th>room_type</th>\n",
       "      <td>0.00000</td>\n",
       "      <td>0.98901</td>\n",
       "    </tr>\n",
       "    <tr>\n",
       "      <th>room_shared</th>\n",
       "      <td>0.00000</td>\n",
       "      <td>1.73883</td>\n",
       "    </tr>\n",
       "    <tr>\n",
       "      <th>room_private</th>\n",
       "      <td>0.00000</td>\n",
       "      <td>0.65503</td>\n",
       "    </tr>\n",
       "    <tr>\n",
       "      <th>person_capacity</th>\n",
       "      <td>0.00000</td>\n",
       "      <td>0.06830</td>\n",
       "    </tr>\n",
       "    <tr>\n",
       "      <th>biz</th>\n",
       "      <td>0.01364</td>\n",
       "      <td>0.06163</td>\n",
       "    </tr>\n",
       "    <tr>\n",
       "      <th>cleanliness_rating</th>\n",
       "      <td>0.00107</td>\n",
       "      <td>0.05240</td>\n",
       "    </tr>\n",
       "    <tr>\n",
       "      <th>bedrooms</th>\n",
       "      <td>0.00000</td>\n",
       "      <td>0.12244</td>\n",
       "    </tr>\n",
       "    <tr>\n",
       "      <th>dist</th>\n",
       "      <td>0.00000</td>\n",
       "      <td>-0.05888</td>\n",
       "    </tr>\n",
       "  </tbody>\n",
       "</table>\n",
       "</div>"
      ],
      "text/plain": [
       "                       pval    param\n",
       "const               0.00000  2.56085\n",
       "room_type           0.00000  0.98901\n",
       "room_shared         0.00000  1.73883\n",
       "room_private        0.00000  0.65503\n",
       "person_capacity     0.00000  0.06830\n",
       "biz                 0.01364  0.06163\n",
       "cleanliness_rating  0.00107  0.05240\n",
       "bedrooms            0.00000  0.12244\n",
       "dist                0.00000 -0.05888"
      ]
     },
     "execution_count": 24,
     "metadata": {},
     "output_type": "execute_result"
    }
   ],
   "source": [
    "sum=[]\n",
    "sum= pd.DataFrame()\n",
    "sum['pval']=results.pvalues.round(5)\n",
    "sum['param']= results.params.round(5)\n",
    "sum[sum['pval']<0.05]"
   ]
  },
  {
   "cell_type": "markdown",
   "id": "df2d8b5f",
   "metadata": {},
   "source": [
    "## K-FOLD"
   ]
  },
  {
   "cell_type": "code",
   "execution_count": 25,
   "id": "d5e55473",
   "metadata": {
    "scrolled": true
   },
   "outputs": [
    {
     "name": "stdout",
     "output_type": "stream",
     "text": [
      "Fold:1, Train set: 1558, Test set:390\n",
      "Fold:2, Train set: 1558, Test set:390\n",
      "Fold:3, Train set: 1558, Test set:390\n",
      "Fold:4, Train set: 1559, Test set:389\n",
      "Fold:5, Train set: 1559, Test set:389\n",
      "R squared: 0.285 (0.076)\n"
     ]
    }
   ],
   "source": [
    "cv = KFold(n_splits=5, random_state=42, shuffle=True)\n",
    "model = LinearRegression()\n",
    "\n",
    "scores = cross_val_score(model, X, y, scoring='r2',\n",
    "                         cv=cv, n_jobs=-1)\n",
    "cnt= 1\n",
    "for train_index, test_index in cv.split(X, y):\n",
    "    print(f'Fold:{cnt}, Train set: {len(train_index)}, Test set:{len(test_index)}')\n",
    "    cnt += 1\n",
    "print('R squared: %.3f (%.3f)' % (mean(scores), std(scores)))"
   ]
  },
  {
   "cell_type": "code",
   "execution_count": 26,
   "id": "0c4a3c6f",
   "metadata": {
    "scrolled": false
   },
   "outputs": [
    {
     "data": {
      "text/plain": [
       "<Figure size 640x480 with 0 Axes>"
      ]
     },
     "metadata": {},
     "output_type": "display_data"
    },
    {
     "data": {
      "image/png": "[encoded data removed]",
      "text/plain": [
       "<Figure size 1000x500 with 2 Axes>"
      ]
     },
     "metadata": {},
     "output_type": "display_data"
    }
   ],
   "source": [
    "from sklearn.model_selection import cross_val_predict\n",
    "plt.suptitle('Comparative study of K-Fold and Linear ')\n",
    "\n",
    "predicted= cross_val_predict(model, X,y, cv= 5)\n",
    "fig, (ax1,ax2)= plt.subplots(1,2, figsize= (10,5))\n",
    "ax1.scatter(y, predicted, edgecolors=(0,0,0))\n",
    "ax1.plot([y.min(), y.max()], [y.min(), y.max()], 'k--', lw= 4)\n",
    "ax1.set_xlabel('Measured')\n",
    "ax1.set_ylabel('Predicted')\n",
    "\n",
    "ax2.scatter(y_pred, y_test, edgecolors=(0,0,0))\n",
    "ax2.plot([y_pred.min(), y_pred.max()], [y_pred.min(), y_pred.max()], 'k--', lw= 4)\n",
    "ax2.set_xlabel('Measured')\n",
    "ax2.set_ylabel('Predicted')\n",
    "\n",
    "plt.tight_layout()\n",
    "plt.show()\n"
   ]
  },
  {
   "cell_type": "markdown",
   "id": "f0c253f6",
   "metadata": {},
   "source": [
    "- The K-fold results show a fairly better distribution than the Linear Regression results.\n",
    "Accuracy on training and test data could be poor because the learning algorithm did not have enough data to learn from. You could improve performance by doing the following:\n",
    "Increase the amount of training data examples."
   ]
  },
  {
   "cell_type": "markdown",
   "id": "39df0045",
   "metadata": {},
   "source": [
    "## Residual Analysis"
   ]
  },
  {
   "cell_type": "code",
   "execution_count": 27,
   "id": "126ad99b",
   "metadata": {},
   "outputs": [
    {
     "data": {
      "text/html": [
       "<div>\n",
       "<style scoped>\n",
       "    .dataframe tbody tr th:only-of-type {\n",
       "        vertical-align: middle;\n",
       "    }\n",
       "\n",
       "    .dataframe tbody tr th {\n",
       "        vertical-align: top;\n",
       "    }\n",
       "\n",
       "    .dataframe thead th {\n",
       "        text-align: right;\n",
       "    }\n",
       "</style>\n",
       "<table border=\"1\" class=\"dataframe\">\n",
       "  <thead>\n",
       "    <tr style=\"text-align: right;\">\n",
       "      <th></th>\n",
       "      <th>Features</th>\n",
       "      <th>Coefficient</th>\n",
       "    </tr>\n",
       "  </thead>\n",
       "  <tbody>\n",
       "    <tr>\n",
       "      <th>0</th>\n",
       "      <td>room_type</td>\n",
       "      <td>0.135391</td>\n",
       "    </tr>\n",
       "    <tr>\n",
       "      <th>1</th>\n",
       "      <td>room_shared</td>\n",
       "      <td>0.031599</td>\n",
       "    </tr>\n",
       "    <tr>\n",
       "      <th>2</th>\n",
       "      <td>room_private</td>\n",
       "      <td>-0.198589</td>\n",
       "    </tr>\n",
       "    <tr>\n",
       "      <th>3</th>\n",
       "      <td>person_capacity</td>\n",
       "      <td>0.068301</td>\n",
       "    </tr>\n",
       "    <tr>\n",
       "      <th>4</th>\n",
       "      <td>multi</td>\n",
       "      <td>-0.020849</td>\n",
       "    </tr>\n",
       "    <tr>\n",
       "      <th>5</th>\n",
       "      <td>biz</td>\n",
       "      <td>0.061631</td>\n",
       "    </tr>\n",
       "    <tr>\n",
       "      <th>6</th>\n",
       "      <td>cleanliness_rating</td>\n",
       "      <td>0.052402</td>\n",
       "    </tr>\n",
       "    <tr>\n",
       "      <th>7</th>\n",
       "      <td>guest_satisfaction_overall</td>\n",
       "      <td>-0.001960</td>\n",
       "    </tr>\n",
       "    <tr>\n",
       "      <th>8</th>\n",
       "      <td>bedrooms</td>\n",
       "      <td>0.122441</td>\n",
       "    </tr>\n",
       "    <tr>\n",
       "      <th>9</th>\n",
       "      <td>dist</td>\n",
       "      <td>-0.058881</td>\n",
       "    </tr>\n",
       "    <tr>\n",
       "      <th>10</th>\n",
       "      <td>metro_dist</td>\n",
       "      <td>0.037271</td>\n",
       "    </tr>\n",
       "  </tbody>\n",
       "</table>\n",
       "</div>"
      ],
      "text/plain": [
       "                      Features  Coefficient\n",
       "0                    room_type     0.135391\n",
       "1                  room_shared     0.031599\n",
       "2                 room_private    -0.198589\n",
       "3              person_capacity     0.068301\n",
       "4                        multi    -0.020849\n",
       "5                          biz     0.061631\n",
       "6           cleanliness_rating     0.052402\n",
       "7   guest_satisfaction_overall    -0.001960\n",
       "8                     bedrooms     0.122441\n",
       "9                         dist    -0.058881\n",
       "10                  metro_dist     0.037271"
      ]
     },
     "execution_count": 27,
     "metadata": {},
     "output_type": "execute_result"
    }
   ],
   "source": [
    "reg_summary = pd.DataFrame(X.columns.values, columns=['Features'])\n",
    "reg_summary['Coefficient'] = lr.coef_\n",
    "reg_summary"
   ]
  },
  {
   "cell_type": "code",
   "execution_count": 28,
   "id": "df06d7a4",
   "metadata": {},
   "outputs": [
    {
     "data": {
      "text/html": [
       "<div>\n",
       "<style scoped>\n",
       "    .dataframe tbody tr th:only-of-type {\n",
       "        vertical-align: middle;\n",
       "    }\n",
       "\n",
       "    .dataframe tbody tr th {\n",
       "        vertical-align: top;\n",
       "    }\n",
       "\n",
       "    .dataframe thead th {\n",
       "        text-align: right;\n",
       "    }\n",
       "</style>\n",
       "<table border=\"1\" class=\"dataframe\">\n",
       "  <thead>\n",
       "    <tr style=\"text-align: right;\">\n",
       "      <th></th>\n",
       "      <th>Prediction</th>\n",
       "      <th>Target</th>\n",
       "    </tr>\n",
       "  </thead>\n",
       "  <tbody>\n",
       "    <tr>\n",
       "      <th>0</th>\n",
       "      <td>140.229246</td>\n",
       "      <td>NaN</td>\n",
       "    </tr>\n",
       "    <tr>\n",
       "      <th>1</th>\n",
       "      <td>140.260582</td>\n",
       "      <td>NaN</td>\n",
       "    </tr>\n",
       "    <tr>\n",
       "      <th>2</th>\n",
       "      <td>188.232819</td>\n",
       "      <td>243.925365</td>\n",
       "    </tr>\n",
       "    <tr>\n",
       "      <th>3</th>\n",
       "      <td>220.024715</td>\n",
       "      <td>NaN</td>\n",
       "    </tr>\n",
       "    <tr>\n",
       "      <th>4</th>\n",
       "      <td>192.555185</td>\n",
       "      <td>NaN</td>\n",
       "    </tr>\n",
       "    <tr>\n",
       "      <th>...</th>\n",
       "      <td>...</td>\n",
       "      <td>...</td>\n",
       "    </tr>\n",
       "    <tr>\n",
       "      <th>580</th>\n",
       "      <td>169.764781</td>\n",
       "      <td>NaN</td>\n",
       "    </tr>\n",
       "    <tr>\n",
       "      <th>581</th>\n",
       "      <td>208.526307</td>\n",
       "      <td>NaN</td>\n",
       "    </tr>\n",
       "    <tr>\n",
       "      <th>582</th>\n",
       "      <td>192.749551</td>\n",
       "      <td>295.389388</td>\n",
       "    </tr>\n",
       "    <tr>\n",
       "      <th>583</th>\n",
       "      <td>178.158212</td>\n",
       "      <td>108.097946</td>\n",
       "    </tr>\n",
       "    <tr>\n",
       "      <th>584</th>\n",
       "      <td>145.634576</td>\n",
       "      <td>168.021808</td>\n",
       "    </tr>\n",
       "  </tbody>\n",
       "</table>\n",
       "<p>585 rows × 2 columns</p>\n",
       "</div>"
      ],
      "text/plain": [
       "     Prediction      Target\n",
       "0    140.229246         NaN\n",
       "1    140.260582         NaN\n",
       "2    188.232819  243.925365\n",
       "3    220.024715         NaN\n",
       "4    192.555185         NaN\n",
       "..          ...         ...\n",
       "580  169.764781         NaN\n",
       "581  208.526307         NaN\n",
       "582  192.749551  295.389388\n",
       "583  178.158212  108.097946\n",
       "584  145.634576  168.021808\n",
       "\n",
       "[585 rows x 2 columns]"
      ]
     },
     "execution_count": 28,
     "metadata": {},
     "output_type": "execute_result"
    }
   ],
   "source": [
    "df_pf = pd.DataFrame(np.exp(y_pred), columns=['Prediction'])\n",
    "df_pf['Target'] = np.exp(y_test)\n",
    "df_pf"
   ]
  },
  {
   "cell_type": "code",
   "execution_count": 29,
   "id": "30545912",
   "metadata": {},
   "outputs": [
    {
     "data": {
      "text/plain": [
       "0    5.252542\n",
       "1    5.089951\n",
       "2    5.082689\n",
       "3    5.235172\n",
       "4    4.935318\n",
       "Name: realSum, dtype: float64"
      ]
     },
     "execution_count": 29,
     "metadata": {},
     "output_type": "execute_result"
    }
   ],
   "source": [
    "y_test = y_test.reset_index(drop=True)\n",
    "y_test.head()"
   ]
  },
  {
   "cell_type": "code",
   "execution_count": 30,
   "id": "06a1127c",
   "metadata": {},
   "outputs": [],
   "source": [
    "df_pf['Residual'] = df_pf['Target'] - df_pf['Prediction']"
   ]
  },
  {
   "cell_type": "code",
   "execution_count": 31,
   "id": "7fe44aff",
   "metadata": {
    "scrolled": true
   },
   "outputs": [
    {
     "data": {
      "text/html": [
       "<div>\n",
       "<style scoped>\n",
       "    .dataframe tbody tr th:only-of-type {\n",
       "        vertical-align: middle;\n",
       "    }\n",
       "\n",
       "    .dataframe tbody tr th {\n",
       "        vertical-align: top;\n",
       "    }\n",
       "\n",
       "    .dataframe thead th {\n",
       "        text-align: right;\n",
       "    }\n",
       "</style>\n",
       "<table border=\"1\" class=\"dataframe\">\n",
       "  <thead>\n",
       "    <tr style=\"text-align: right;\">\n",
       "      <th></th>\n",
       "      <th>Prediction</th>\n",
       "      <th>Target</th>\n",
       "      <th>Residual</th>\n",
       "      <th>Difference%</th>\n",
       "    </tr>\n",
       "  </thead>\n",
       "  <tbody>\n",
       "    <tr>\n",
       "      <th>0</th>\n",
       "      <td>140.229246</td>\n",
       "      <td>NaN</td>\n",
       "      <td>NaN</td>\n",
       "      <td>NaN</td>\n",
       "    </tr>\n",
       "    <tr>\n",
       "      <th>1</th>\n",
       "      <td>140.260582</td>\n",
       "      <td>NaN</td>\n",
       "      <td>NaN</td>\n",
       "      <td>NaN</td>\n",
       "    </tr>\n",
       "    <tr>\n",
       "      <th>2</th>\n",
       "      <td>188.232819</td>\n",
       "      <td>243.925365</td>\n",
       "      <td>55.692547</td>\n",
       "      <td>22.831798</td>\n",
       "    </tr>\n",
       "    <tr>\n",
       "      <th>3</th>\n",
       "      <td>220.024715</td>\n",
       "      <td>NaN</td>\n",
       "      <td>NaN</td>\n",
       "      <td>NaN</td>\n",
       "    </tr>\n",
       "    <tr>\n",
       "      <th>4</th>\n",
       "      <td>192.555185</td>\n",
       "      <td>NaN</td>\n",
       "      <td>NaN</td>\n",
       "      <td>NaN</td>\n",
       "    </tr>\n",
       "    <tr>\n",
       "      <th>...</th>\n",
       "      <td>...</td>\n",
       "      <td>...</td>\n",
       "      <td>...</td>\n",
       "      <td>...</td>\n",
       "    </tr>\n",
       "    <tr>\n",
       "      <th>580</th>\n",
       "      <td>169.764781</td>\n",
       "      <td>NaN</td>\n",
       "      <td>NaN</td>\n",
       "      <td>NaN</td>\n",
       "    </tr>\n",
       "    <tr>\n",
       "      <th>581</th>\n",
       "      <td>208.526307</td>\n",
       "      <td>NaN</td>\n",
       "      <td>NaN</td>\n",
       "      <td>NaN</td>\n",
       "    </tr>\n",
       "    <tr>\n",
       "      <th>582</th>\n",
       "      <td>192.749551</td>\n",
       "      <td>295.389388</td>\n",
       "      <td>102.639837</td>\n",
       "      <td>34.747300</td>\n",
       "    </tr>\n",
       "    <tr>\n",
       "      <th>583</th>\n",
       "      <td>178.158212</td>\n",
       "      <td>108.097946</td>\n",
       "      <td>-70.060266</td>\n",
       "      <td>64.811838</td>\n",
       "    </tr>\n",
       "    <tr>\n",
       "      <th>584</th>\n",
       "      <td>145.634576</td>\n",
       "      <td>168.021808</td>\n",
       "      <td>22.387232</td>\n",
       "      <td>13.324004</td>\n",
       "    </tr>\n",
       "  </tbody>\n",
       "</table>\n",
       "<p>585 rows × 4 columns</p>\n",
       "</div>"
      ],
      "text/plain": [
       "     Prediction      Target    Residual  Difference%\n",
       "0    140.229246         NaN         NaN          NaN\n",
       "1    140.260582         NaN         NaN          NaN\n",
       "2    188.232819  243.925365   55.692547    22.831798\n",
       "3    220.024715         NaN         NaN          NaN\n",
       "4    192.555185         NaN         NaN          NaN\n",
       "..          ...         ...         ...          ...\n",
       "580  169.764781         NaN         NaN          NaN\n",
       "581  208.526307         NaN         NaN          NaN\n",
       "582  192.749551  295.389388  102.639837    34.747300\n",
       "583  178.158212  108.097946  -70.060266    64.811838\n",
       "584  145.634576  168.021808   22.387232    13.324004\n",
       "\n",
       "[585 rows x 4 columns]"
      ]
     },
     "execution_count": 31,
     "metadata": {},
     "output_type": "execute_result"
    }
   ],
   "source": [
    "df_pf['Difference%'] = np.absolute(df_pf['Residual']/df_pf['Target']*100)\n",
    "df_pf"
   ]
  },
  {
   "cell_type": "code",
   "execution_count": 32,
   "id": "9ff2dbb5",
   "metadata": {
    "scrolled": true
   },
   "outputs": [
    {
     "data": {
      "text/plain": [
       "<AxesSubplot:xlabel='Residual', ylabel='Count'>"
      ]
     },
     "execution_count": 32,
     "metadata": {},
     "output_type": "execute_result"
    },
    {
     "data": {
      "image/png": "[encoded data removed]",
      "text/plain": [
       "<Figure size 640x480 with 1 Axes>"
      ]
     },
     "metadata": {},
     "output_type": "display_data"
    }
   ],
   "source": [
    "sns.histplot(df_pf['Residual'], bins= 50, kde= True)"
   ]
  },
  {
   "cell_type": "markdown",
   "id": "9c482e49",
   "metadata": {},
   "source": [
    "insights:\n",
    "It can be seen that the distribution is not close to 0 and is far apart because of the underfit prediction results."
   ]
  },
  {
   "cell_type": "markdown",
   "id": "f03f737d",
   "metadata": {},
   "source": [
    "## CONCLUSION"
   ]
  },
  {
   "cell_type": "markdown",
   "id": "8dbe363b",
   "metadata": {},
   "source": [
    "1. The fewer rooms that can be occupied by people, the lower average price is as well. Entire home room types tend to be more expensive than other room types also get added fee for additional bed facilities or request a smoking room with a larger room.\n",
    "2. Hosts have the highest average income in the room type. Entire home/apt. This is very common, because it was reported by a source who said only 19.4% of hosts achieve the status of \"Superhost\".\n",
    "3. R2 yield of 34% with training data of 27%, Underfitting data which requires more input features or reduces variance. to predict the model or classify the model well.\n",
    "4. R2 of the K-Fold results is 28% with an error percentage of 7%. has less accuracy than the results of Linear Regression.\n",
    "5. The Linear Regression model is better than the Kfold because the k-fold method is quite effective in dealing with overfitting."
   ]
  }
 ],
 "metadata": {
  "kernelspec": {
   "display_name": "Python 3 (ipykernel)",
   "language": "python",
   "name": "python3"
  },
  "language_info": {
   "codemirror_mode": {
    "name": "ipython",
    "version": 3
   },
   "file_extension": ".py",
   "mimetype": "text/x-python",
   "name": "python",
   "nbconvert_exporter": "python",
   "pygments_lexer": "ipython3",
   "version": "3.9.13"
  }
 },
 "nbformat": 4,
 "nbformat_minor": 5
}
